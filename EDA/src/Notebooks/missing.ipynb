{
 "cells": [
  {
   "cell_type": "code",
   "execution_count": 23,
   "metadata": {},
   "outputs": [],
   "source": [
    "import pandas as pd, numpy as np"
   ]
  },
  {
   "cell_type": "code",
   "execution_count": 24,
   "metadata": {},
   "outputs": [],
   "source": [
    "missing = pd.read_csv('Data\\worldbank.csv')"
   ]
  },
  {
   "cell_type": "code",
   "execution_count": 25,
   "metadata": {},
   "outputs": [
    {
     "data": {
      "text/html": [
       "<div>\n",
       "<style scoped>\n",
       "    .dataframe tbody tr th:only-of-type {\n",
       "        vertical-align: middle;\n",
       "    }\n",
       "\n",
       "    .dataframe tbody tr th {\n",
       "        vertical-align: top;\n",
       "    }\n",
       "\n",
       "    .dataframe thead th {\n",
       "        text-align: right;\n",
       "    }\n",
       "</style>\n",
       "<table border=\"1\" class=\"dataframe\">\n",
       "  <thead>\n",
       "    <tr style=\"text-align: right;\">\n",
       "      <th></th>\n",
       "      <th>Country Name</th>\n",
       "      <th>Country Code</th>\n",
       "      <th>Indicator Name</th>\n",
       "      <th>Indicator Code</th>\n",
       "      <th>1960</th>\n",
       "      <th>1961</th>\n",
       "      <th>1962</th>\n",
       "      <th>1963</th>\n",
       "      <th>1964</th>\n",
       "      <th>1965</th>\n",
       "      <th>...</th>\n",
       "      <th>2013</th>\n",
       "      <th>2014</th>\n",
       "      <th>2015</th>\n",
       "      <th>2016</th>\n",
       "      <th>2017</th>\n",
       "      <th>2018</th>\n",
       "      <th>2019</th>\n",
       "      <th>2020</th>\n",
       "      <th>2021</th>\n",
       "      <th>2022</th>\n",
       "    </tr>\n",
       "  </thead>\n",
       "  <tbody>\n",
       "    <tr>\n",
       "      <th>0</th>\n",
       "      <td>Bosnia and Herzegovina</td>\n",
       "      <td>BIH</td>\n",
       "      <td>Population, total</td>\n",
       "      <td>SP.POP.TOTL</td>\n",
       "      <td>3262539</td>\n",
       "      <td>3325333</td>\n",
       "      <td>3387512</td>\n",
       "      <td>3448532</td>\n",
       "      <td>3507959</td>\n",
       "      <td>3565517</td>\n",
       "      <td>...</td>\n",
       "      <td>3617559</td>\n",
       "      <td>3571068</td>\n",
       "      <td>3524324</td>\n",
       "      <td>3480986</td>\n",
       "      <td>3440027</td>\n",
       "      <td>3400129</td>\n",
       "      <td>3360711</td>\n",
       "      <td>3318407</td>\n",
       "      <td>3270943</td>\n",
       "      <td>NaN</td>\n",
       "    </tr>\n",
       "    <tr>\n",
       "      <th>1</th>\n",
       "      <td>United Kingdom</td>\n",
       "      <td>GBR</td>\n",
       "      <td>Population, total</td>\n",
       "      <td>SP.POP.TOTL</td>\n",
       "      <td>52400000</td>\n",
       "      <td>52800000</td>\n",
       "      <td>53250000</td>\n",
       "      <td>53650000</td>\n",
       "      <td>54000000</td>\n",
       "      <td>54348050</td>\n",
       "      <td>...</td>\n",
       "      <td>64128273</td>\n",
       "      <td>64602298</td>\n",
       "      <td>65116219</td>\n",
       "      <td>65611593</td>\n",
       "      <td>66058859</td>\n",
       "      <td>66460344</td>\n",
       "      <td>66836327</td>\n",
       "      <td>67081000</td>\n",
       "      <td>67326569</td>\n",
       "      <td>NaN</td>\n",
       "    </tr>\n",
       "  </tbody>\n",
       "</table>\n",
       "<p>2 rows × 67 columns</p>\n",
       "</div>"
      ],
      "text/plain": [
       "             Country Name Country Code     Indicator Name Indicator Code  \\\n",
       "0  Bosnia and Herzegovina          BIH  Population, total    SP.POP.TOTL   \n",
       "1          United Kingdom          GBR  Population, total    SP.POP.TOTL   \n",
       "\n",
       "       1960      1961      1962      1963      1964      1965  ...      2013  \\\n",
       "0   3262539   3325333   3387512   3448532   3507959   3565517  ...   3617559   \n",
       "1  52400000  52800000  53250000  53650000  54000000  54348050  ...  64128273   \n",
       "\n",
       "       2014      2015      2016      2017      2018      2019      2020  \\\n",
       "0   3571068   3524324   3480986   3440027   3400129   3360711   3318407   \n",
       "1  64602298  65116219  65611593  66058859  66460344  66836327  67081000   \n",
       "\n",
       "       2021  2022  \n",
       "0   3270943   NaN  \n",
       "1  67326569   NaN  \n",
       "\n",
       "[2 rows x 67 columns]"
      ]
     },
     "execution_count": 25,
     "metadata": {},
     "output_type": "execute_result"
    }
   ],
   "source": [
    "missing"
   ]
  },
  {
   "cell_type": "code",
   "execution_count": 26,
   "metadata": {},
   "outputs": [],
   "source": [
    "missing = missing.iloc[:, :1].join(missing.iloc[:, -10:])"
   ]
  },
  {
   "cell_type": "code",
   "execution_count": 27,
   "metadata": {},
   "outputs": [],
   "source": [
    "missing.replace({'Bosnia and Herzegovina' : 'Bosnia y Herzegovina', 'United Kingdom' : 'Reino Unido'}, inplace= True)"
   ]
  },
  {
   "cell_type": "code",
   "execution_count": 29,
   "metadata": {},
   "outputs": [],
   "source": [
    "missing.to_csv('../src/Data/missing.csv')"
   ]
  }
 ],
 "metadata": {
  "kernelspec": {
   "display_name": "Python 3",
   "language": "python",
   "name": "python3"
  },
  "language_info": {
   "codemirror_mode": {
    "name": "ipython",
    "version": 3
   },
   "file_extension": ".py",
   "mimetype": "text/x-python",
   "name": "python",
   "nbconvert_exporter": "python",
   "pygments_lexer": "ipython3",
   "version": "3.7.4"
  },
  "orig_nbformat": 4
 },
 "nbformat": 4,
 "nbformat_minor": 2
}

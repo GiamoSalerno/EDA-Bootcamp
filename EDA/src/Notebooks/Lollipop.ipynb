{
 "cells": [
  {
   "cell_type": "code",
   "execution_count": null,
   "metadata": {},
   "outputs": [],
   "source": [
    "# '''Definimos el plot'''\n",
    "# plt.figure(figsize=(15,15))\n",
    "# '''Generamos el grafico'''\n",
    "# plt.stem(top10['Country'],top10['Daily mean'],linefmt='green',markerfmt='D')\n",
    "\n",
    "# '''Establecemos los ejes'''\n",
    "# plt.xticks(rotation=45, fontsize=10,ha=\"right\",color='w')\n",
    "\n",
    "# plt.title('Grafica de Lollipop')\n",
    "# plt.xlabel('COUNTRY')\n",
    "# plt.ylabel('DAILY_MEAN')\n",
    "# plt.yticks(fontsize=15,color='w');"
   ]
  }
 ],
 "metadata": {
  "language_info": {
   "name": "python"
  },
  "orig_nbformat": 4
 },
 "nbformat": 4,
 "nbformat_minor": 2
}
